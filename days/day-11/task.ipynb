{
 "cells": [
  {
   "cell_type": "code",
   "execution_count": 152,
   "metadata": {},
   "outputs": [],
   "source": [
    "import re\n",
    "from collections import defaultdict\n",
    "\n",
    "import numpy as np\n",
    "from aocd.models import Puzzle\n",
    "\n",
    "aoc = Puzzle(year=2024, day=11)"
   ]
  },
  {
   "cell_type": "code",
   "execution_count": null,
   "metadata": {},
   "outputs": [],
   "source": [
    "# use test data\n",
    "raw_test = aoc.examples[0].input_data.splitlines()[1]\n",
    "\n",
    "# use real data\n",
    "raw = aoc.input_data\n",
    "\n",
    "print(raw_test)"
   ]
  },
  {
   "cell_type": "code",
   "execution_count": null,
   "metadata": {},
   "outputs": [],
   "source": [
    "def parse_data(data):\n",
    "    data = re.findall(r\"\\d+\", data)\n",
    "    return list(map(int, data))\n",
    "\n",
    "\n",
    "dummy = parse_data(raw_test)\n",
    "real = parse_data(raw)\n",
    "\n",
    "dummy"
   ]
  },
  {
   "cell_type": "markdown",
   "metadata": {},
   "source": [
    "# Part 1\n"
   ]
  },
  {
   "cell_type": "code",
   "execution_count": null,
   "metadata": {},
   "outputs": [],
   "source": [
    "def transform(stone: int):\n",
    "    if stone == 0:\n",
    "        return [1]\n",
    "    str_stone = str(stone)\n",
    "    if len(str_stone) % 2 == 0:\n",
    "        return [\n",
    "            int(str_stone[: len(str_stone) // 2]),\n",
    "            int(str_stone[len(str_stone) // 2 :]),\n",
    "        ]\n",
    "    else:\n",
    "        return [stone * 2024]\n",
    "\n",
    "\n",
    "def blink(stones, n):\n",
    "    out = []\n",
    "    for i in range(n):\n",
    "        stones = [s for stone in stones for s in transform(stone)]\n",
    "        out.append((i, len(stones)))\n",
    "    return np.array(out)\n",
    "\n",
    "\n",
    "data = real\n",
    "result = blink(data, 25)[-1][-1].item()\n",
    "result"
   ]
  },
  {
   "cell_type": "code",
   "execution_count": null,
   "metadata": {},
   "outputs": [],
   "source": [
    "aoc.answer_a = result"
   ]
  },
  {
   "cell_type": "markdown",
   "metadata": {},
   "source": [
    "# Part 2\n"
   ]
  },
  {
   "cell_type": "code",
   "execution_count": null,
   "metadata": {},
   "outputs": [],
   "source": [
    "def blink(stones, n):\n",
    "    stones_map = defaultdict(int)\n",
    "    for s in stones:\n",
    "        stones_map[s] += 1\n",
    "\n",
    "    new_stones_map = stones_map.copy()\n",
    "    for _ in range(n):\n",
    "        for k, v in stones_map.items():\n",
    "            if k == 0:\n",
    "                new_stones_map[0] -= v\n",
    "                new_stones_map[1] += v\n",
    "            elif len(str(k)) % 2 == 0:\n",
    "                k1, k2 = int(str(k)[: len(str(k)) // 2]), int(\n",
    "                    str(k)[len(str(k)) // 2 :]\n",
    "                )\n",
    "                new_stones_map[k] -= v\n",
    "                new_stones_map[k1] += v\n",
    "                new_stones_map[k2] += v\n",
    "            else:\n",
    "                new_stones_map[k] -= v\n",
    "                new_stones_map[k * 2024] += v\n",
    "        stones_map = new_stones_map.copy()\n",
    "        stones_map = {k: v for k, v in stones_map.items() if v > 0}\n",
    "    return stones_map\n",
    "\n",
    "\n",
    "data = real\n",
    "result = sum(blink(data, 75).values())\n",
    "result"
   ]
  },
  {
   "cell_type": "code",
   "execution_count": null,
   "metadata": {},
   "outputs": [],
   "source": [
    "aoc.answer_b = result"
   ]
  }
 ],
 "metadata": {
  "kernelspec": {
   "display_name": ".venv",
   "language": "python",
   "name": "python3"
  },
  "language_info": {
   "codemirror_mode": {
    "name": "ipython",
    "version": 3
   },
   "file_extension": ".py",
   "mimetype": "text/x-python",
   "name": "python",
   "nbconvert_exporter": "python",
   "pygments_lexer": "ipython3",
   "version": "3.12.6"
  },
  "orig_nbformat": 4
 },
 "nbformat": 4,
 "nbformat_minor": 2
}
