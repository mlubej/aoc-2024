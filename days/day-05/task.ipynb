{
 "cells": [
  {
   "cell_type": "code",
   "execution_count": null,
   "metadata": {},
   "outputs": [],
   "source": [
    "from collections import defaultdict\n",
    "from functools import cmp_to_key, partial\n",
    "\n",
    "from aocd import get_data, submit\n",
    "\n",
    "DAY = 5\n",
    "YEAR = 2024"
   ]
  },
  {
   "cell_type": "code",
   "execution_count": null,
   "metadata": {},
   "outputs": [],
   "source": [
    "# use test data\n",
    "raw_test = \"\"\"47|53\n",
    "97|13\n",
    "97|61\n",
    "97|47\n",
    "75|29\n",
    "61|13\n",
    "75|53\n",
    "29|13\n",
    "97|29\n",
    "53|29\n",
    "61|53\n",
    "97|53\n",
    "61|29\n",
    "47|13\n",
    "75|47\n",
    "97|75\n",
    "47|61\n",
    "75|61\n",
    "47|29\n",
    "75|13\n",
    "53|13\n",
    "\n",
    "75,47,61,53,29\n",
    "97,61,53,29,13\n",
    "75,29,13\n",
    "75,97,47,61,53\n",
    "61,13,29\n",
    "97,13,75,29,47\"\"\"\n",
    "\n",
    "\n",
    "# use real data\n",
    "raw = get_data(day=DAY, year=YEAR)\n",
    "\n",
    "print(raw_test)"
   ]
  },
  {
   "cell_type": "code",
   "execution_count": null,
   "metadata": {},
   "outputs": [],
   "source": [
    "def parse_rules(rules):\n",
    "    rules_dict = defaultdict(list)\n",
    "    for rule in rules:\n",
    "        p1, p2 = map(int, rule.split(\"|\"))\n",
    "        rules_dict[p1].append(p2)\n",
    "\n",
    "    rules_dict = {k: sorted(v) for k, v in rules_dict.items()}\n",
    "    return dict(rules_dict)\n",
    "\n",
    "\n",
    "def parse_updates(updates):\n",
    "    return [list(map(int, u.split(\",\"))) for u in updates.split(\"\\n\")]\n",
    "\n",
    "\n",
    "def parse_data(data):\n",
    "    rules, updates = data.split(\"\\n\\n\")\n",
    "    return parse_rules(rules.split(\"\\n\")), parse_updates(updates)\n",
    "\n",
    "\n",
    "dummy = parse_data(raw_test)\n",
    "real = parse_data(raw)"
   ]
  },
  {
   "cell_type": "markdown",
   "metadata": {},
   "source": [
    "# Part 1\n"
   ]
  },
  {
   "cell_type": "code",
   "execution_count": null,
   "metadata": {},
   "outputs": [],
   "source": [
    "def update_ordering_key(u1, u2, rules):\n",
    "    if u1 in rules and u2 in rules[u1]:\n",
    "        return -1\n",
    "    if u2 in rules and u1 in rules[u2]:\n",
    "        return 1\n",
    "    return 0\n",
    "\n",
    "\n",
    "def order_update(update, rules):\n",
    "    cmp_func = partial(update_ordering_key, rules=rules)\n",
    "    return sorted(update, key=cmp_to_key(cmp_func))\n",
    "\n",
    "\n",
    "def is_ordered(update, rules):\n",
    "    return update == order_update(update, rules)\n",
    "\n",
    "\n",
    "def get_middle(update):\n",
    "    return update[len(update) // 2]"
   ]
  },
  {
   "cell_type": "code",
   "execution_count": null,
   "metadata": {},
   "outputs": [],
   "source": [
    "rules, updates = real\n",
    "\n",
    "result = sum([get_middle(update) for update in updates if is_ordered(update, rules)])\n",
    "result"
   ]
  },
  {
   "cell_type": "code",
   "execution_count": null,
   "metadata": {},
   "outputs": [],
   "source": [
    "submit(result, part=\"a\", day=DAY, year=YEAR)"
   ]
  },
  {
   "cell_type": "markdown",
   "metadata": {},
   "source": [
    "# Part 2\n"
   ]
  },
  {
   "cell_type": "code",
   "execution_count": null,
   "metadata": {},
   "outputs": [],
   "source": [
    "rules, updates = real\n",
    "\n",
    "incorrect = [update for update in updates if not is_ordered(update, rules)]\n",
    "result = sum([get_middle(order_update(update, rules)) for update in incorrect])\n",
    "result"
   ]
  },
  {
   "cell_type": "code",
   "execution_count": null,
   "metadata": {},
   "outputs": [],
   "source": [
    "submit(result, part=\"b\", day=DAY, year=YEAR)"
   ]
  }
 ],
 "metadata": {
  "kernelspec": {
   "display_name": ".venv",
   "language": "python",
   "name": "python3"
  },
  "language_info": {
   "codemirror_mode": {
    "name": "ipython",
    "version": 3
   },
   "file_extension": ".py",
   "mimetype": "text/x-python",
   "name": "python",
   "nbconvert_exporter": "python",
   "pygments_lexer": "ipython3",
   "version": "3.12.6"
  },
  "orig_nbformat": 4
 },
 "nbformat": 4,
 "nbformat_minor": 2
}
