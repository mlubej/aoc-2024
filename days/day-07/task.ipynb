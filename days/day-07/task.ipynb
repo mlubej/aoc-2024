{
 "cells": [
  {
   "cell_type": "code",
   "execution_count": null,
   "metadata": {},
   "outputs": [],
   "source": [
    "import ast\n",
    "import copy\n",
    "import re\n",
    "\n",
    "import matplotlib.pyplot as plt\n",
    "import numpy as np\n",
    "import pandas as pd\n",
    "from aocd.models import Puzzle\n",
    "\n",
    "aoc = Puzzle(year=2024, day=7)"
   ]
  },
  {
   "cell_type": "code",
   "execution_count": null,
   "metadata": {},
   "outputs": [],
   "source": [
    "# use test data\n",
    "raw_test = aoc.examples[0].input_data\n",
    "\n",
    "# use real data\n",
    "raw = aoc.input_data\n",
    "\n",
    "print(raw_test)"
   ]
  },
  {
   "cell_type": "code",
   "execution_count": null,
   "metadata": {},
   "outputs": [],
   "source": [
    "def parse_data(data):\n",
    "    data = [list(map(int, re.findall(r\"\\d+\", d))) for d in data.split(\"\\n\")]\n",
    "    return data\n",
    "\n",
    "\n",
    "dummy = parse_data(raw_test)\n",
    "real = parse_data(raw)\n",
    "\n",
    "dummy"
   ]
  },
  {
   "cell_type": "markdown",
   "metadata": {},
   "source": [
    "# Part 1\n"
   ]
  },
  {
   "cell_type": "code",
   "execution_count": null,
   "metadata": {},
   "outputs": [],
   "source": [
    "data"
   ]
  },
  {
   "cell_type": "code",
   "execution_count": null,
   "metadata": {},
   "outputs": [],
   "source": [
    "def func(a, b, op):\n",
    "    if op == \"+\":\n",
    "        return a + b\n",
    "    if op == \"||\":\n",
    "        return int(str(a) + str(b))\n",
    "    elif op == \"*\":\n",
    "        return a * b\n",
    "\n",
    "\n",
    "def evaluate(numbers, operators, valid=False):\n",
    "    test, a, b, *rest = numbers\n",
    "    for op in operators:\n",
    "        value = func(a, b, op)\n",
    "        if len(rest) > 0:\n",
    "            if value > test:\n",
    "                continue\n",
    "            value, valid = evaluate([test, value, *rest], operators, valid)\n",
    "        else:\n",
    "            if value == test:\n",
    "                return value, True\n",
    "            continue\n",
    "    return value, valid\n",
    "\n",
    "\n",
    "data = real\n",
    "\n",
    "operators = [\"+\", \"*\"]\n",
    "result = sum([d[0] for d in data if evaluate(d, operators)[1]])\n",
    "result"
   ]
  },
  {
   "cell_type": "code",
   "execution_count": null,
   "metadata": {},
   "outputs": [],
   "source": [
    "aoc.answer_a = result"
   ]
  },
  {
   "cell_type": "markdown",
   "metadata": {},
   "source": [
    "# Part 2\n"
   ]
  },
  {
   "cell_type": "code",
   "execution_count": null,
   "metadata": {},
   "outputs": [],
   "source": [
    "data = real\n",
    "\n",
    "operators = [\"+\", \"*\", \"||\"]\n",
    "result = sum([d[0] for d in data if evaluate(d, operators)[1]])\n",
    "result"
   ]
  },
  {
   "cell_type": "code",
   "execution_count": null,
   "metadata": {},
   "outputs": [],
   "source": [
    "aoc.answer_b = result"
   ]
  }
 ],
 "metadata": {
  "kernelspec": {
   "display_name": ".venv",
   "language": "python",
   "name": "python3"
  },
  "language_info": {
   "codemirror_mode": {
    "name": "ipython",
    "version": 3
   },
   "file_extension": ".py",
   "mimetype": "text/x-python",
   "name": "python",
   "nbconvert_exporter": "python",
   "pygments_lexer": "ipython3",
   "version": "3.12.6"
  },
  "orig_nbformat": 4
 },
 "nbformat": 4,
 "nbformat_minor": 2
}
