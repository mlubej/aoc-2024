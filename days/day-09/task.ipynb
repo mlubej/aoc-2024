{
 "cells": [
  {
   "cell_type": "code",
   "execution_count": 1,
   "metadata": {},
   "outputs": [],
   "source": [
    "import numpy as np\n",
    "from aocd.models import Puzzle\n",
    "from itertools import groupby\n",
    "\n",
    "aoc = Puzzle(year=2024, day=9)"
   ]
  },
  {
   "cell_type": "code",
   "execution_count": null,
   "metadata": {},
   "outputs": [],
   "source": [
    "# use test data\n",
    "raw_test = aoc.examples[0].input_data\n",
    "\n",
    "# use real data\n",
    "raw = aoc.input_data\n",
    "\n",
    "print(raw_test)"
   ]
  },
  {
   "cell_type": "code",
   "execution_count": null,
   "metadata": {},
   "outputs": [],
   "source": [
    "def parse_data(data):\n",
    "    return data\n",
    "\n",
    "\n",
    "dummy = parse_data(raw_test)\n",
    "real = parse_data(raw)\n",
    "\n",
    "dummy"
   ]
  },
  {
   "cell_type": "markdown",
   "metadata": {},
   "source": [
    "# Part 1\n"
   ]
  },
  {
   "cell_type": "code",
   "execution_count": null,
   "metadata": {},
   "outputs": [],
   "source": [
    "def convert_to_blocks(data):\n",
    "    data = list(data)\n",
    "    blocks = []\n",
    "    for idx, block in enumerate(data):\n",
    "        blocks.extend([idx // 2] * int(block) if idx % 2 == 0 else [-1] * int(block))\n",
    "\n",
    "    return np.array(blocks)\n",
    "\n",
    "\n",
    "def sort_blocks(blocks):\n",
    "    blocks = blocks[: np.where(blocks != -1)[0][-1] + 1]\n",
    "    while -1 in blocks:\n",
    "        p1, p2 = np.where(blocks == -1)[0][0], np.where(blocks != -1)[0][-1]\n",
    "        blocks[[p1, p2]] = blocks[[p2, p1]]\n",
    "        blocks = blocks[: np.where(blocks != -1)[0][-1] + 1]\n",
    "\n",
    "    return blocks\n",
    "\n",
    "\n",
    "def compute_hash(blocks):\n",
    "    return sum(idx * block for idx, block in enumerate(blocks)).item()\n",
    "\n",
    "\n",
    "data = real\n",
    "blocks = convert_to_blocks(data)\n",
    "sorted_blocks = sort_blocks(blocks)\n",
    "result = compute_hash(sort_blocks(blocks))\n",
    "result"
   ]
  },
  {
   "cell_type": "code",
   "execution_count": null,
   "metadata": {},
   "outputs": [],
   "source": [
    "aoc.answer_a = result"
   ]
  },
  {
   "cell_type": "markdown",
   "metadata": {},
   "source": [
    "# Part 2\n"
   ]
  },
  {
   "cell_type": "code",
   "execution_count": null,
   "metadata": {},
   "outputs": [],
   "source": [
    "def group_blocks(blocks):\n",
    "    return [(k, len(list(g))) for k, g in groupby(blocks.tolist())]\n",
    "\n",
    "\n",
    "def sort_groups(groups):\n",
    "    file_ids_to_sort = sorted([g[0] for g in groups if g[0] != -1])[::-1]\n",
    "    for file_id in file_ids_to_sort:\n",
    "        fdx = np.where([g[0] == file_id for g in groups])[0][0].item()\n",
    "        for mdx, slot in enumerate(groups):\n",
    "            if slot[0] != -1 or mdx > fdx:\n",
    "                continue\n",
    "\n",
    "            slot_diff = slot[1] - groups[fdx][1]\n",
    "            if slot_diff >= 0:\n",
    "                file_group = groups.pop(fdx)\n",
    "                groups.pop(mdx)\n",
    "                groups.insert(mdx, file_group)\n",
    "                groups.insert(fdx, (-1, slot[1] - slot_diff))\n",
    "                if slot_diff > 0:\n",
    "                    groups.insert(mdx + 1, (-1, slot_diff))\n",
    "                break\n",
    "    return groups\n",
    "\n",
    "\n",
    "def compute_hash_v2(groups):\n",
    "    blocks = [b for block, size in groups for b in [block] * size]\n",
    "    return sum(idx * block for idx, block in enumerate(blocks) if block != -1)\n",
    "\n",
    "\n",
    "data = real\n",
    "blocks = convert_to_blocks(data)\n",
    "groups = group_blocks(blocks)\n",
    "sorted_groups = sort_groups(groups)\n",
    "result = compute_hash_v2(sorted_groups)\n",
    "result"
   ]
  },
  {
   "cell_type": "code",
   "execution_count": null,
   "metadata": {},
   "outputs": [],
   "source": [
    "aoc.answer_b = result"
   ]
  }
 ],
 "metadata": {
  "kernelspec": {
   "display_name": ".venv",
   "language": "python",
   "name": "python3"
  },
  "language_info": {
   "codemirror_mode": {
    "name": "ipython",
    "version": 3
   },
   "file_extension": ".py",
   "mimetype": "text/x-python",
   "name": "python",
   "nbconvert_exporter": "python",
   "pygments_lexer": "ipython3",
   "version": "3.12.6"
  },
  "orig_nbformat": 4
 },
 "nbformat": 4,
 "nbformat_minor": 2
}
