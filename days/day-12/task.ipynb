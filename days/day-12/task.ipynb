{
 "cells": [
  {
   "cell_type": "code",
   "execution_count": 2,
   "metadata": {},
   "outputs": [],
   "source": [
    "import numpy as np\n",
    "from aocd.models import Puzzle\n",
    "from itertools import product\n",
    "\n",
    "from collections import defaultdict\n",
    "\n",
    "aoc = Puzzle(year=2024, day=12)"
   ]
  },
  {
   "cell_type": "code",
   "execution_count": null,
   "metadata": {},
   "outputs": [],
   "source": [
    "# use test data\n",
    "raw_test = aoc.examples[0].input_data\n",
    "\n",
    "# use real data\n",
    "raw = aoc.input_data\n",
    "\n",
    "print(raw_test)"
   ]
  },
  {
   "cell_type": "code",
   "execution_count": null,
   "metadata": {},
   "outputs": [],
   "source": [
    "def parse_data(data):\n",
    "    data = [list(d) for d in data.split(\"\\n\")]\n",
    "    return np.array(data)\n",
    "\n",
    "\n",
    "dummy = parse_data(raw_test)\n",
    "real = parse_data(raw)\n",
    "\n",
    "dummy"
   ]
  },
  {
   "cell_type": "markdown",
   "metadata": {},
   "source": [
    "# Part 1\n"
   ]
  },
  {
   "cell_type": "code",
   "execution_count": null,
   "metadata": {},
   "outputs": [],
   "source": [
    "neighbors = [(0, 1), (0, -1), (1, 0), (-1, 0)]\n",
    "\n",
    "\n",
    "def get_region(data, start):\n",
    "    visited = {start}\n",
    "    queue = [start]\n",
    "    while queue:\n",
    "        x, y = queue.pop(0)\n",
    "        for dx, dy in neighbors:\n",
    "            nx, ny = x + dx, y + dy\n",
    "            if (\n",
    "                0 <= nx < data.shape[0]\n",
    "                and 0 <= ny < data.shape[1]\n",
    "                and data[nx, ny] == data[x, y]\n",
    "                and (nx, ny) not in visited\n",
    "            ):\n",
    "                queue.append((nx, ny))\n",
    "                visited |= {(nx, ny)}\n",
    "    return visited\n",
    "\n",
    "\n",
    "def area(region):\n",
    "    return len(region)\n",
    "\n",
    "\n",
    "def perimeter_dict(region):\n",
    "    perimeters = defaultdict(int)\n",
    "    queue = list(region)\n",
    "    while queue:\n",
    "        x, y = queue.pop(0)\n",
    "        for dx, dy in neighbors:\n",
    "            nx, ny = x + dx, y + dy\n",
    "            if (nx, ny) not in region:\n",
    "                perimeters[(x, y)] += 1\n",
    "    return perimeters\n",
    "\n",
    "\n",
    "loc = real\n",
    "regions = defaultdict(list)\n",
    "elements = set(product(range(loc.shape[0]), range(loc.shape[1])))\n",
    "\n",
    "while elements:\n",
    "    x, y = elements.pop()\n",
    "    region = get_region(loc, (x, y))\n",
    "    elements -= region\n",
    "    regions[loc[x, y].item()].append(region)\n",
    "\n",
    "result = 0\n",
    "for k, v in regions.items():\n",
    "    for region in v:\n",
    "        result += area(region) * sum(perimeter_dict(region).values())\n",
    "result"
   ]
  },
  {
   "cell_type": "code",
   "execution_count": null,
   "metadata": {},
   "outputs": [],
   "source": [
    "aoc.answer_a = result"
   ]
  },
  {
   "cell_type": "markdown",
   "metadata": {},
   "source": [
    "# Part 2\n"
   ]
  },
  {
   "cell_type": "code",
   "execution_count": null,
   "metadata": {},
   "outputs": [],
   "source": [
    "from shapely.geometry import MultiPoint\n",
    "\n",
    "\n",
    "def count_corners(coords):\n",
    "    coords = coords[:-1]\n",
    "    dot_prod = [\n",
    "        np.dot(\n",
    "            np.array(coords[i]) - np.array(coords[i - 1]), np.array(coords[(i + 1) % len(coords)]) - np.array(coords[i])\n",
    "        ).item()\n",
    "        for i in range(0, len(coords))\n",
    "    ]\n",
    "    return np.count_nonzero(np.array(dot_prod) == 0)\n",
    "\n",
    "\n",
    "def corners(region):\n",
    "    poly = MultiPoint(list(region)).buffer(0.5, cap_style=3)\n",
    "    corners = count_corners(list(poly.exterior.coords))\n",
    "    for interior in poly.interiors:\n",
    "        corners += count_corners(list(interior.coords))\n",
    "    return corners\n",
    "\n",
    "\n",
    "loc = real\n",
    "regions = defaultdict(list)\n",
    "elements = set(product(range(loc.shape[0]), range(loc.shape[1])))\n",
    "\n",
    "while elements:\n",
    "    x, y = elements.pop()\n",
    "    region = get_region(loc, (x, y))\n",
    "    elements -= region\n",
    "    regions[loc[x, y].item()].append(region)\n",
    "\n",
    "result = 0\n",
    "for k, v in regions.items():\n",
    "    for region in v:\n",
    "        result += area(region) * corners(region)\n",
    "result"
   ]
  },
  {
   "cell_type": "code",
   "execution_count": null,
   "metadata": {},
   "outputs": [],
   "source": [
    "aoc.answer_b = result"
   ]
  }
 ],
 "metadata": {
  "kernelspec": {
   "display_name": ".venv",
   "language": "python",
   "name": "python3"
  },
  "language_info": {
   "codemirror_mode": {
    "name": "ipython",
    "version": 3
   },
   "file_extension": ".py",
   "mimetype": "text/x-python",
   "name": "python",
   "nbconvert_exporter": "python",
   "pygments_lexer": "ipython3",
   "version": "3.12.6"
  },
  "orig_nbformat": 4
 },
 "nbformat": 4,
 "nbformat_minor": 2
}
