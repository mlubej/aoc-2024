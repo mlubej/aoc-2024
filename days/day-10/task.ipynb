{
 "cells": [
  {
   "cell_type": "code",
   "execution_count": 1,
   "metadata": {},
   "outputs": [],
   "source": [
    "import numpy as np\n",
    "from aocd.models import Puzzle\n",
    "\n",
    "aoc = Puzzle(year=2024, day=10)"
   ]
  },
  {
   "cell_type": "code",
   "execution_count": null,
   "metadata": {},
   "outputs": [],
   "source": [
    "# use test data\n",
    "raw_test = \"\"\"89010123\n",
    "78121874\n",
    "87430965\n",
    "96549874\n",
    "45678903\n",
    "32019012\n",
    "01329801\n",
    "10456732\"\"\"\n",
    "\n",
    "\n",
    "# use real data\n",
    "raw = aoc.input_data\n",
    "\n",
    "print(raw_test)"
   ]
  },
  {
   "cell_type": "code",
   "execution_count": null,
   "metadata": {},
   "outputs": [],
   "source": [
    "def parse_data(data):\n",
    "    data = [list(d) for d in data.split(\"\\n\")]\n",
    "    data = np.array(data).astype(object)\n",
    "    data[data == \".\"] = -1\n",
    "    return np.array(data).astype(int)\n",
    "\n",
    "\n",
    "dummy = parse_data(raw_test)\n",
    "real = parse_data(raw)\n",
    "\n",
    "dummy"
   ]
  },
  {
   "cell_type": "markdown",
   "metadata": {},
   "source": [
    "# Part 1\n"
   ]
  },
  {
   "cell_type": "code",
   "execution_count": null,
   "metadata": {},
   "outputs": [],
   "source": [
    "neighbors = [[-1, 0], [1, 0], [0, -1], [0, 1]]\n",
    "\n",
    "\n",
    "def get_graph(data, neighbors):\n",
    "    graph = {}\n",
    "    for i in range(data.shape[0]):\n",
    "        for j in range(data.shape[1]):\n",
    "            graph[(i, j)] = []\n",
    "            for dx, dy in neighbors:\n",
    "                x, y = i + dx, j + dy\n",
    "                if (\n",
    "                    0 <= x < data.shape[0]\n",
    "                    and 0 <= y < data.shape[1]\n",
    "                    and data[x, y] - data[i, j] == 1\n",
    "                ):\n",
    "                    graph[(i, j)].append((x, y))\n",
    "    return dict(graph)\n",
    "\n",
    "\n",
    "def dfs(path, paths, distinct, end=9):\n",
    "    global data\n",
    "    global graph\n",
    "    current = path[-1]\n",
    "    for neighbor in graph[current]:\n",
    "        if data[neighbor] == end:\n",
    "            if distinct or neighbor not in [p[-1] for p in paths]:\n",
    "                paths.append(path + [neighbor])\n",
    "        elif neighbor not in path:\n",
    "            paths = dfs(path + [neighbor], paths, distinct, end)\n",
    "\n",
    "    return paths\n",
    "\n",
    "\n",
    "def get_trailhead_score(trailhead, distinct):\n",
    "    return len(dfs([trailhead], [], distinct=distinct))\n",
    "\n",
    "\n",
    "data = real\n",
    "graph = get_graph(data, neighbors)\n",
    "\n",
    "start_list = list(map(tuple, np.argwhere(data == 0).tolist())).copy()\n",
    "result = sum(get_trailhead_score(start, False) for start in start_list)\n",
    "result"
   ]
  },
  {
   "cell_type": "code",
   "execution_count": null,
   "metadata": {},
   "outputs": [],
   "source": [
    "aoc.answer_a = result"
   ]
  },
  {
   "cell_type": "markdown",
   "metadata": {},
   "source": [
    "# Part 2\n"
   ]
  },
  {
   "cell_type": "code",
   "execution_count": null,
   "metadata": {},
   "outputs": [],
   "source": [
    "data = real\n",
    "graph = get_graph(data, neighbors)\n",
    "\n",
    "start_list = list(map(tuple, np.argwhere(data == 0).tolist())).copy()\n",
    "result = sum(get_trailhead_score(start, True) for start in start_list)\n",
    "result"
   ]
  },
  {
   "cell_type": "code",
   "execution_count": null,
   "metadata": {},
   "outputs": [],
   "source": [
    "aoc.answer_b = result"
   ]
  }
 ],
 "metadata": {
  "kernelspec": {
   "display_name": ".venv",
   "language": "python",
   "name": "python3"
  },
  "language_info": {
   "codemirror_mode": {
    "name": "ipython",
    "version": 3
   },
   "file_extension": ".py",
   "mimetype": "text/x-python",
   "name": "python",
   "nbconvert_exporter": "python",
   "pygments_lexer": "ipython3",
   "version": "3.12.6"
  },
  "orig_nbformat": 4
 },
 "nbformat": 4,
 "nbformat_minor": 2
}
