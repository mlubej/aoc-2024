{
 "cells": [
  {
   "cell_type": "code",
   "execution_count": 1,
   "metadata": {},
   "outputs": [],
   "source": [
    "import re\n",
    "\n",
    "import numpy as np\n",
    "from aocd.models import Puzzle\n",
    "\n",
    "aoc = Puzzle(year=2024, day=13)"
   ]
  },
  {
   "cell_type": "code",
   "execution_count": null,
   "metadata": {},
   "outputs": [],
   "source": [
    "# use test data\n",
    "raw_test = aoc.examples[0].input_data\n",
    "\n",
    "# use real data\n",
    "raw = aoc.input_data\n",
    "\n",
    "print(raw_test)"
   ]
  },
  {
   "cell_type": "code",
   "execution_count": null,
   "metadata": {},
   "outputs": [],
   "source": [
    "def parse_data(data):\n",
    "    data = [re.findall(r'\\d+', d) for d in data.split('\\n\\n')]\n",
    "    return np.array(data, dtype=int)\n",
    "\n",
    "\n",
    "dummy = parse_data(raw_test)\n",
    "real = parse_data(raw)\n",
    "\n",
    "dummy"
   ]
  },
  {
   "cell_type": "markdown",
   "metadata": {},
   "source": [
    "# Part 1\n"
   ]
  },
  {
   "cell_type": "code",
   "execution_count": null,
   "metadata": {},
   "outputs": [],
   "source": [
    "def solve(data):\n",
    "    Ax, Ay, Bx, By, Px, Py = data\n",
    "    b = (Px * Ay - Py * Ax) / (Bx * Ay - By * Ax)\n",
    "    a = (Py - b * By) / Ay\n",
    "    return a, b, abs(a - int(a)) < 1e-5 and abs(b - int(b)) < 1e-5\n",
    "\n",
    "\n",
    "data = real\n",
    "\n",
    "steps = [solve(row) for row in data]\n",
    "steps = [int(a) * 3 + int(b) for a, b, c in steps if c]\n",
    "result = sum(steps)\n",
    "result"
   ]
  },
  {
   "cell_type": "code",
   "execution_count": null,
   "metadata": {},
   "outputs": [],
   "source": [
    "aoc.answer_a = result"
   ]
  },
  {
   "cell_type": "markdown",
   "metadata": {},
   "source": [
    "# Part 2\n"
   ]
  },
  {
   "cell_type": "code",
   "execution_count": null,
   "metadata": {},
   "outputs": [],
   "source": [
    "def solve(data):\n",
    "    Ax, Ay, Bx, By, Px, Py = data\n",
    "    Px += 10000000000000\n",
    "    Py += 10000000000000\n",
    "    b = (Px * Ay - Py * Ax) / (Bx * Ay - By * Ax)\n",
    "    a = (Py - b * By) / Ay\n",
    "    return a, b, abs(a - int(a)) < 1e-5 and abs(b - int(b)) < 1e-5\n",
    "\n",
    "\n",
    "data = real\n",
    "\n",
    "steps = [solve(row) for row in data]\n",
    "steps = [int(a) * 3 + int(b) for a, b, c in steps if c]\n",
    "result = sum(steps)\n",
    "result"
   ]
  },
  {
   "cell_type": "code",
   "execution_count": null,
   "metadata": {},
   "outputs": [],
   "source": [
    "aoc.answer_b = result"
   ]
  }
 ],
 "metadata": {
  "kernelspec": {
   "display_name": ".venv",
   "language": "python",
   "name": "python3"
  },
  "language_info": {
   "codemirror_mode": {
    "name": "ipython",
    "version": 3
   },
   "file_extension": ".py",
   "mimetype": "text/x-python",
   "name": "python",
   "nbconvert_exporter": "python",
   "pygments_lexer": "ipython3",
   "version": "3.12.6"
  },
  "orig_nbformat": 4
 },
 "nbformat": 4,
 "nbformat_minor": 2
}
