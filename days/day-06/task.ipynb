{
 "cells": [
  {
   "cell_type": "code",
   "execution_count": null,
   "metadata": {},
   "outputs": [],
   "source": [
    "import numpy as np\n",
    "from aocd.models import Puzzle\n",
    "\n",
    "DAY = 6\n",
    "YEAR = 2024\n",
    "aoc = Puzzle(year=YEAR, day=DAY)"
   ]
  },
  {
   "cell_type": "code",
   "execution_count": null,
   "metadata": {},
   "outputs": [],
   "source": [
    "raw_test = aoc.examples[0].input_data\n",
    "\n",
    "# use real data\n",
    "raw = aoc.input_data\n",
    "\n",
    "print(raw_test)"
   ]
  },
  {
   "cell_type": "code",
   "execution_count": null,
   "metadata": {},
   "outputs": [],
   "source": [
    "def parse_data(data):\n",
    "    matrix = np.array([list(d) for d in data.split(\"\\n\")])\n",
    "    row, col = np.argwhere(matrix == \"^\")[0].tolist()\n",
    "    obstacles = set(map(tuple, np.argwhere(matrix == \"#\").tolist()))\n",
    "    return (row, col, \"^\"), obstacles, matrix.shape\n",
    "\n",
    "\n",
    "dummy = parse_data(raw_test)\n",
    "real = parse_data(raw)\n",
    "\n",
    "dummy"
   ]
  },
  {
   "cell_type": "markdown",
   "metadata": {},
   "source": [
    "# Part 1\n"
   ]
  },
  {
   "cell_type": "code",
   "execution_count": null,
   "metadata": {},
   "outputs": [],
   "source": [
    "orientations = [\"^\", \">\", \"v\", \"<\"]\n",
    "directions = {\"^\": [-1, 0], \">\": [0, 1], \"v\": [1, 0], \"<\": [0, -1]}\n",
    "\n",
    "\n",
    "def move(loc, obstacles, shape):\n",
    "    r, c, d = loc\n",
    "    dr, dc = directions[d]\n",
    "    visited = {(r, c)}\n",
    "    while True:\n",
    "        nr, nc = r + dr, c + dc\n",
    "        if nr < 0 or nr >= shape[0] or nc < 0 or nc >= shape[1]:\n",
    "            break\n",
    "        if (nr, nc) in obstacles:\n",
    "            d = orientations[(orientations.index(d) + 1) % len(orientations)]\n",
    "            dr, dc = directions[d]\n",
    "            continue\n",
    "\n",
    "        r, c = nr, nc\n",
    "        visited.add((r, c))\n",
    "    return visited\n",
    "\n",
    "\n",
    "start, obstacles, shape = real\n",
    "result = len(move(start, obstacles, shape))\n",
    "result"
   ]
  },
  {
   "cell_type": "code",
   "execution_count": null,
   "metadata": {},
   "outputs": [],
   "source": [
    "aoc.answer_a = result"
   ]
  },
  {
   "cell_type": "markdown",
   "metadata": {},
   "source": [
    "# Part 2\n"
   ]
  },
  {
   "cell_type": "code",
   "execution_count": null,
   "metadata": {},
   "outputs": [],
   "source": [
    "def move_v2(loc, obstacles, shape):\n",
    "    r, c, d = loc\n",
    "    dr, dc = directions[d]\n",
    "    visited = {(r, c, d)}\n",
    "    stuck = False\n",
    "    while True:\n",
    "        nr, nc = r + dr, c + dc\n",
    "        if nr < 0 or nr >= shape[0] or nc < 0 or nc >= shape[1]:\n",
    "            break\n",
    "        if (nr, nc, d) in visited:\n",
    "            stuck = True\n",
    "            break\n",
    "        if (nr, nc) in obstacles:\n",
    "            d = orientations[(orientations.index(d) + 1) % len(orientations)]\n",
    "            dr, dc = directions[d]\n",
    "            continue\n",
    "\n",
    "        r, c = nr, nc\n",
    "        visited.add((r, c, d))\n",
    "    return stuck\n",
    "\n",
    "\n",
    "start, obstacles, shape = real\n",
    "obs_candidates = move(start, obstacles, shape) - {start[:2]}\n",
    "\n",
    "result = 0\n",
    "for o in obs_candidates:\n",
    "    stuck = move_v2(start, obstacles | {o}, shape)\n",
    "    if stuck:\n",
    "        result += 1\n",
    "\n",
    "result"
   ]
  },
  {
   "cell_type": "code",
   "execution_count": null,
   "metadata": {},
   "outputs": [],
   "source": [
    "aoc.answer_b = result"
   ]
  }
 ],
 "metadata": {
  "kernelspec": {
   "display_name": ".venv",
   "language": "python",
   "name": "python3"
  },
  "language_info": {
   "codemirror_mode": {
    "name": "ipython",
    "version": 3
   },
   "file_extension": ".py",
   "mimetype": "text/x-python",
   "name": "python",
   "nbconvert_exporter": "python",
   "pygments_lexer": "ipython3",
   "version": "3.12.6"
  },
  "orig_nbformat": 4
 },
 "nbformat": 4,
 "nbformat_minor": 2
}
