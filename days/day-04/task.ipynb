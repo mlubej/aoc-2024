{
 "cells": [
  {
   "cell_type": "code",
   "execution_count": null,
   "metadata": {},
   "outputs": [],
   "source": [
    "import numpy as np\n",
    "from aocd import get_data, submit\n",
    "\n",
    "DAY = 4\n",
    "YEAR = 2024"
   ]
  },
  {
   "cell_type": "code",
   "execution_count": null,
   "metadata": {},
   "outputs": [],
   "source": [
    "# use test data\n",
    "raw_test = \"\"\"MMMSXXMASM\n",
    "MSAMXMSMSA\n",
    "AMXSXMAAMM\n",
    "MSAMASMSMX\n",
    "XMASAMXAMM\n",
    "XXAMMXXAMA\n",
    "SMSMSASXSS\n",
    "SAXAMASAAA\n",
    "MAMMMXMMMM\n",
    "MXMXAXMASX\n",
    "\"\"\"\n",
    "\n",
    "# use real data\n",
    "raw = get_data(day=DAY, year=YEAR)\n",
    "\n",
    "print(raw_test)"
   ]
  },
  {
   "cell_type": "code",
   "execution_count": null,
   "metadata": {},
   "outputs": [],
   "source": [
    "def parse_data(data):\n",
    "    data = [list(d) for d in data.split('\\n') if d]\n",
    "    return  np.array(data)\n",
    "\n",
    "\n",
    "dummy = parse_data(raw_test)\n",
    "real = parse_data(raw)\n",
    "\n",
    "dummy"
   ]
  },
  {
   "cell_type": "markdown",
   "metadata": {},
   "source": [
    "# Part 1\n"
   ]
  },
  {
   "cell_type": "code",
   "execution_count": null,
   "metadata": {},
   "outputs": [],
   "source": [
    "letter_positions = [\n",
    "    {'M': (1, 0), 'A': (2,0), 'S': (3,0)}, # right\n",
    "    {'M': (-1, 0), 'A': (-2,0), 'S': (-3,0)}, # left\n",
    "    {'M': (0, 1), 'A': (0,2), 'S': (0,3)}, # up\n",
    "    {'M': (0, -1), 'A': (0,-2), 'S': (0,-3)}, # down\n",
    "    {'M': (1, 1), 'A': (2,2), 'S': (3,3)}, # up right\n",
    "    {'M': (-1, 1), 'A': (-2,2), 'S': (-3,3)}, # up left\n",
    "    {'M': (1, -1), 'A': (2,-2), 'S': (3,-3)}, # down right\n",
    "    {'M': (-1, -1), 'A': (-2,-2), 'S': (-3,-3)}, # down left\n",
    "]\n",
    "\n",
    "def out_of_bounds(r, c, data):\n",
    "    return r < 0 or c < 0 or r >= len(data[0]) or c >= len(data[:, 0])\n",
    "\n",
    "def is_match(data, origin, positions):\n",
    "    for letter, loc in positions.items():\n",
    "        r, c = np.array(origin) + np.array(loc)\n",
    "        if out_of_bounds(r, c, data) or data[r, c] != letter:\n",
    "            return False\n",
    "\n",
    "    return True\n",
    "\n",
    "def find_xmas(data):\n",
    "    valid = 0\n",
    "    candidates = np.array(np.where(data == 'X')).T.tolist()\n",
    "    for c in candidates:\n",
    "        for positions in letter_positions:\n",
    "            if is_match(data, c, positions):\n",
    "                valid += 1\n",
    "\n",
    "    return valid\n",
    "\n",
    "data = real\n",
    "result = find_xmas(data)\n",
    "result\n"
   ]
  },
  {
   "cell_type": "code",
   "execution_count": null,
   "metadata": {},
   "outputs": [],
   "source": [
    "submit(result, part=\"a\", day=DAY, year=YEAR)"
   ]
  },
  {
   "cell_type": "markdown",
   "metadata": {},
   "source": [
    "# Part 2\n"
   ]
  },
  {
   "cell_type": "code",
   "execution_count": null,
   "metadata": {},
   "outputs": [],
   "source": [
    "letter_positions = [\n",
    "    {'M': [(-1, -1), (1, -1)], 'S': [(-1, 1), (1, 1)]}, # bottom\n",
    "    {'M': [(-1, 1), (1, 1)], 'S': [(-1, -1), (1, -1)]}, # top\n",
    "    {'M': [(-1, -1), (-1, 1)], 'S': [(1, -1), (1, 1)]}, # left\n",
    "    {'M': [(1, -1), (1, 1)], 'S': [(-1, -1), (-1, 1)]}, # right\n",
    "]\n",
    "\n",
    "def is_match_v2(data, origin, positions):\n",
    "    for letter, loc_list in positions.items():\n",
    "        for loc in loc_list:\n",
    "            r, c = np.array(origin) + np.array(loc)\n",
    "            if out_of_bounds(r, c, data) or data[r, c] != letter:\n",
    "                return False\n",
    "\n",
    "    return True\n",
    "\n",
    "def find_xmas(data):\n",
    "    valid = 0\n",
    "    candidates = np.array(np.where(data == 'A')).T.tolist()\n",
    "    for c in candidates:\n",
    "        for positions in letter_positions:\n",
    "            if is_match_v2(data, c, positions):\n",
    "                valid+=1\n",
    "\n",
    "    return valid\n",
    "\n",
    "data = real\n",
    "result = find_xmas(data)\n",
    "result"
   ]
  },
  {
   "cell_type": "code",
   "execution_count": null,
   "metadata": {},
   "outputs": [],
   "source": [
    "submit(result, part=\"b\", day=DAY, year=YEAR)"
   ]
  }
 ],
 "metadata": {
  "kernelspec": {
   "display_name": ".venv",
   "language": "python",
   "name": "python3"
  },
  "language_info": {
   "codemirror_mode": {
    "name": "ipython",
    "version": 3
   },
   "file_extension": ".py",
   "mimetype": "text/x-python",
   "name": "python",
   "nbconvert_exporter": "python",
   "pygments_lexer": "ipython3",
   "version": "3.12.6"
  },
  "orig_nbformat": 4
 },
 "nbformat": 4,
 "nbformat_minor": 2
}
