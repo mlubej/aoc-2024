{
 "cells": [
  {
   "cell_type": "code",
   "execution_count": 8,
   "metadata": {},
   "outputs": [],
   "source": [
    "import re\n",
    "\n",
    "import matplotlib.pyplot as plt\n",
    "import numpy as np\n",
    "import skimage.measure\n",
    "from aocd.models import Puzzle\n",
    "\n",
    "aoc = Puzzle(year=2024, day=14)"
   ]
  },
  {
   "cell_type": "code",
   "execution_count": null,
   "metadata": {},
   "outputs": [],
   "source": [
    "# use test data\n",
    "raw_test = aoc.examples[0].input_data\n",
    "\n",
    "# use real data\n",
    "raw = aoc.input_data\n",
    "\n",
    "print(raw_test)"
   ]
  },
  {
   "cell_type": "code",
   "execution_count": null,
   "metadata": {},
   "outputs": [],
   "source": [
    "def parse_data(data):\n",
    "    data = [re.findall(r\"[\\d-]+\", d) for d in data.split(\"\\n\")]\n",
    "    return np.array(data).astype(int).T\n",
    "\n",
    "\n",
    "dummy = parse_data(raw_test)\n",
    "real = parse_data(raw)\n",
    "\n",
    "dummy"
   ]
  },
  {
   "cell_type": "markdown",
   "metadata": {},
   "source": [
    "# Part 1\n"
   ]
  },
  {
   "cell_type": "code",
   "execution_count": null,
   "metadata": {},
   "outputs": [],
   "source": [
    "# COLS, ROWS = 11, 7\n",
    "COLS, ROWS = 101, 103\n",
    "\n",
    "\n",
    "def positions(data, time):\n",
    "    px, py, vx, vy = data\n",
    "    px = (px + time * vx) % COLS\n",
    "    py = (py + time * vy) % ROWS\n",
    "\n",
    "    quadrants = np.zeros((ROWS, COLS))\n",
    "    for x, y in zip(px, py):\n",
    "        quadrants[y, x] += 1\n",
    "\n",
    "    q_tl = np.sum(quadrants[: ROWS // 2, : COLS // 2]).astype(int)\n",
    "    q_tr = np.sum(quadrants[: ROWS // 2, COLS // 2 + 1 :]).astype(int)\n",
    "    q_bl = np.sum(quadrants[ROWS // 2 + 1 :, : COLS // 2]).astype(int)\n",
    "    q_br = np.sum(quadrants[ROWS // 2 + 1 :, COLS // 2 + 1 :]).astype(int)\n",
    "\n",
    "    return quadrants, q_tl, q_tr, q_bl, q_br\n",
    "\n",
    "\n",
    "data = real\n",
    "result = np.prod(positions(data, 100)[1:]).item()\n",
    "result"
   ]
  },
  {
   "cell_type": "code",
   "execution_count": null,
   "metadata": {},
   "outputs": [],
   "source": [
    "aoc.answer_a = result"
   ]
  },
  {
   "cell_type": "markdown",
   "metadata": {},
   "source": [
    "# Part 2\n"
   ]
  },
  {
   "cell_type": "code",
   "execution_count": null,
   "metadata": {},
   "outputs": [],
   "source": [
    "en = [\n",
    "    skimage.measure.shannon_entropy(positions(data, time)[0]).item()\n",
    "    for time in range(10000)\n",
    "]\n",
    "result = np.argmin(en)\n",
    "result"
   ]
  },
  {
   "cell_type": "code",
   "execution_count": null,
   "metadata": {},
   "outputs": [],
   "source": [
    "plt.imshow(positions(data, result)[0])"
   ]
  },
  {
   "cell_type": "code",
   "execution_count": null,
   "metadata": {},
   "outputs": [],
   "source": [
    "aoc.answer_b = result"
   ]
  }
 ],
 "metadata": {
  "kernelspec": {
   "display_name": ".venv",
   "language": "python",
   "name": "python3"
  },
  "language_info": {
   "codemirror_mode": {
    "name": "ipython",
    "version": 3
   },
   "file_extension": ".py",
   "mimetype": "text/x-python",
   "name": "python",
   "nbconvert_exporter": "python",
   "pygments_lexer": "ipython3",
   "version": "3.12.6"
  },
  "orig_nbformat": 4
 },
 "nbformat": 4,
 "nbformat_minor": 2
}
