{
 "cells": [
  {
   "cell_type": "code",
   "execution_count": null,
   "metadata": {},
   "outputs": [],
   "source": [
    "import ast\n",
    "import copy\n",
    "import re\n",
    "from collections import defaultdict\n",
    "from itertools import combinations\n",
    "\n",
    "import matplotlib.pyplot as plt\n",
    "import numpy as np\n",
    "import pandas as pd\n",
    "from aocd.models import Puzzle\n",
    "\n",
    "aoc = Puzzle(year=2024, day=8)"
   ]
  },
  {
   "cell_type": "code",
   "execution_count": null,
   "metadata": {},
   "outputs": [],
   "source": [
    "# use test data\n",
    "raw_test = aoc.examples[0].input_data\n",
    "\n",
    "# use real data\n",
    "raw = aoc.input_data\n",
    "\n",
    "print(raw_test)"
   ]
  },
  {
   "cell_type": "code",
   "execution_count": null,
   "metadata": {},
   "outputs": [],
   "source": [
    "def parse_data(data):\n",
    "    matrix = np.array([list(d) for d in data.split(\"\\n\")])\n",
    "    antennas = set(np.unique(matrix).tolist()) - {\".\"}\n",
    "    antennas = {u: np.argwhere(matrix == u).tolist() for u in antennas}\n",
    "\n",
    "    return antennas, matrix.shape\n",
    "\n",
    "\n",
    "dummy = parse_data(raw_test)\n",
    "real = parse_data(raw)\n",
    "\n",
    "dummy"
   ]
  },
  {
   "cell_type": "markdown",
   "metadata": {},
   "source": [
    "# Part 1\n"
   ]
  },
  {
   "cell_type": "code",
   "execution_count": null,
   "metadata": {},
   "outputs": [],
   "source": [
    "def print_matrix(nodes, antinodes, shape):\n",
    "    matrix = np.full(shape, \".\")\n",
    "    for an in antinodes:\n",
    "        matrix[tuple(an)] = \"#\"\n",
    "\n",
    "    for k, v in nodes.items():\n",
    "        for n in v:\n",
    "            matrix[tuple(n)] = k\n",
    "\n",
    "    matrix = \"\\n\".join(\"\".join(row) for row in matrix)\n",
    "    print(matrix)\n",
    "    return matrix\n",
    "\n",
    "\n",
    "def find_antinodes(a, b, shape, harmonics=False):\n",
    "    a, b = np.array([a, b])\n",
    "    d = b - a\n",
    "    if not harmonics:\n",
    "        nodes = [a - d, b + d]\n",
    "    else:\n",
    "        max_harmonic = int(np.ceil(max(shape) / max(d)))\n",
    "        nodes = [a - i * d for i in range(0, max_harmonic)]\n",
    "        nodes.extend([b + i * d for i in range(0, max_harmonic)])\n",
    "    return {tuple(n.tolist()) for n in nodes if (n >= 0).all() and (n < shape).all()}\n",
    "\n",
    "\n",
    "def find_all_antinodes(nodes, shape, harmonics):\n",
    "    antinodes = set()\n",
    "    for antennas in nodes.values():\n",
    "        local_antinodes = []\n",
    "        for a, b in combinations(antennas, 2):\n",
    "            local_antinodes.extend(find_antinodes(a, b, shape, harmonics=harmonics))\n",
    "\n",
    "        antinodes |= set(local_antinodes)\n",
    "    return antinodes\n",
    "\n",
    "\n",
    "nodes, shape = real\n",
    "\n",
    "antinodes = find_all_antinodes(nodes, shape, False)\n",
    "result = len(antinodes)\n",
    "result"
   ]
  },
  {
   "cell_type": "code",
   "execution_count": null,
   "metadata": {},
   "outputs": [],
   "source": [
    "aoc.answer_a = result"
   ]
  },
  {
   "cell_type": "markdown",
   "metadata": {},
   "source": [
    "# Part 2\n"
   ]
  },
  {
   "cell_type": "code",
   "execution_count": null,
   "metadata": {},
   "outputs": [],
   "source": [
    "nodes, shape = real\n",
    "\n",
    "antinodes = find_all_antinodes(nodes, shape, True)\n",
    "result = len(antinodes)\n",
    "result"
   ]
  },
  {
   "cell_type": "code",
   "execution_count": null,
   "metadata": {},
   "outputs": [],
   "source": [
    "aoc.answer_b = result"
   ]
  }
 ],
 "metadata": {
  "kernelspec": {
   "display_name": ".venv",
   "language": "python",
   "name": "python3"
  },
  "language_info": {
   "codemirror_mode": {
    "name": "ipython",
    "version": 3
   },
   "file_extension": ".py",
   "mimetype": "text/x-python",
   "name": "python",
   "nbconvert_exporter": "python",
   "pygments_lexer": "ipython3",
   "version": "3.12.6"
  },
  "orig_nbformat": 4
 },
 "nbformat": 4,
 "nbformat_minor": 2
}
